{
  "nbformat": 4,
  "nbformat_minor": 0,
  "metadata": {
    "colab": {
      "name": "SRA 268 Graph ",
      "provenance": [],
      "authorship_tag": "ABX9TyNby0RBrCRlVwHKpPbaAgxB",
      "include_colab_link": true
    },
    "kernelspec": {
      "name": "python3",
      "display_name": "Python 3"
    }
  },
  "cells": [
    {
      "cell_type": "markdown",
      "metadata": {
        "id": "view-in-github",
        "colab_type": "text"
      },
      "source": [
        "<a href=\"https://colab.research.google.com/github/nlm30/SRA-268/blob/master/SRA_268_Graph.ipynb\" target=\"_parent\"><img src=\"https://colab.research.google.com/assets/colab-badge.svg\" alt=\"Open In Colab\"/></a>"
      ]
    },
    {
      "cell_type": "markdown",
      "metadata": {
        "id": "w1LSbveNCzX5",
        "colab_type": "text"
      },
      "source": [
        "Examining Yearly Temperature Trends by Month"
      ]
    },
    {
      "cell_type": "markdown",
      "metadata": {
        "id": "w3JH3va4EONh",
        "colab_type": "text"
      },
      "source": [
        "Outline of the Process: \n",
        "This graph charts average temperature by month from 2017-2019 in order gauge whether temperature has been increasing over the years. Unfortunately the graph is incomplete as no data was provided for November and December of 2019. It was created by averaging the max temperature that was recorded every day for each month over the three year timespan. Then each average was represented by colored bar with the color corresponding to the year. "
      ]
    },
    {
      "cell_type": "markdown",
      "metadata": {
        "id": "_kFSeT69DBu5",
        "colab_type": "text"
      },
      "source": [
        "![](https://raw.githubusercontent.com/nlm30/SRA-268/master/Folder/SRA%20268%20graph.PNG)"
      ]
    },
    {
      "cell_type": "markdown",
      "metadata": {
        "id": "GNTtfU3MFqzo",
        "colab_type": "text"
      },
      "source": [
        "Conclusions:\n",
        "Temperatures varied fromm month to month and year by year, but in general an expected pattern emerges. The year start cold in January and Fedurary and gradually warms up until July, which in all three years was the hottest month on average, and then cools down again as winter approaches. Again this pattern is completely expected of a region with a temperate climate such as State College. There was nothing overly surprising all though in 2017 and 2018 March was cooler than Feburary. Unfortunately it is impossible to draw any firm conclusion about rising yearly temperatures from this graph as temperatures by month fluctuate with seemingly no pattern from year to year.   \n",
        "\n"
      ]
    }
  ]
}