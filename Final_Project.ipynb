{
  "nbformat": 4,
  "nbformat_minor": 0,
  "metadata": {
    "colab": {
      "name": "Final Project",
      "provenance": [],
      "collapsed_sections": [],
      "include_colab_link": true
    },
    "kernelspec": {
      "name": "python3",
      "display_name": "Python 3"
    }
  },
  "cells": [
    {
      "cell_type": "markdown",
      "metadata": {
        "id": "view-in-github",
        "colab_type": "text"
      },
      "source": [
        "<a href=\"https://colab.research.google.com/github/nlm30/SRA-268/blob/master/Final_Project.ipynb\" target=\"_parent\"><img src=\"https://colab.research.google.com/assets/colab-badge.svg\" alt=\"Open In Colab\"/></a>"
      ]
    },
    {
      "cell_type": "markdown",
      "metadata": {
        "id": "Kw5PZBtl0Ob6",
        "colab_type": "text"
      },
      "source": [
        "# The College Quarterback Project"
      ]
    },
    {
      "cell_type": "markdown",
      "metadata": {
        "id": "iXWAmSVB0Rno",
        "colab_type": "text"
      },
      "source": [
        "Contributors:\n",
        "\n",
        "\n",
        "*   Jonathan Mirchandani\n",
        "*   Nick Magera\n",
        "\n",
        "\n",
        "\n"
      ]
    },
    {
      "cell_type": "markdown",
      "metadata": {
        "id": "WpaW-i5l0ZHn",
        "colab_type": "text"
      },
      "source": [
        "## Background"
      ]
    },
    {
      "cell_type": "markdown",
      "metadata": {
        "id": "E4VKsOvP0eev",
        "colab_type": "text"
      },
      "source": [
        "\n",
        "The National Football League or otherwise called the NFL, is one of the most popular sports in the United States. The NFL would be nothing without its players. On every single NFL team there are 53 players on the active roster. These players all play different positions in the NFL. The NFL actually has about 22 different positions players can choose to focus on. The most important position in football is the quarterback. The quarterback is the heart and soul of the team. The job of the quarterback is to essentially run the offense by passing the ball, calling plays, and ensuring that the team will score Without a good quarterback it is extremely difficult for a team to be successful. All NFL teams are often hunting for the next great quarterback, whether it is Trevor Lawrence, Justin Fields, or Joe Burrow. The place teams often look for this next quarterback is the NFL Draft. The NFL Draft is an event in the NFL Offseason where all NFL teams choose college prospects in order to make their teams more competitive. The NFL Draft serves as a beacon of hope for NFL teams for the future by getting young talent out of college. Getting a great young quarterback in the draft is critical for a franchise’s success. A team will use all resources available to analyze which one to pick. Teams often scour the country to find and pick the right quarterback for the team. All possible resources will be used to discover a future franchise quarterback or a diamond in the rough."
      ]
    },
    {
      "cell_type": "markdown",
      "metadata": {
        "id": "7d8vfcGufV0_",
        "colab_type": "text"
      },
      "source": [
        "### Goal"
      ]
    },
    {
      "cell_type": "markdown",
      "metadata": {
        "id": "e1jKSGTjfY2H",
        "colab_type": "text"
      },
      "source": [
        "The goal of this project is to make a map that shows the current locations college quarterbacks who NFL teams could be interested in scouting."
      ]
    },
    {
      "cell_type": "markdown",
      "metadata": {
        "id": "GOxy_TvCfi54",
        "colab_type": "text"
      },
      "source": [
        "### Assumptions"
      ]
    },
    {
      "cell_type": "markdown",
      "metadata": {
        "id": "cw1v_1MMfnAR",
        "colab_type": "text"
      },
      "source": [
        "Insert 10 assumptions for your data model:\n",
        "*   Assumption 1: All NFL quarterbacks needed to go to colllege at some point\n",
        "*   Assumption 2: A college generating multiple quarterbacks can be an indicator of a good fooball infastructure \n",
        "*   Assumption 3: All colleges mentioned in the map are accredited institutions\n",
        "*   Assumption 4: Quarterback is the most important position in the National Football League\n",
        "*   Assumption 5: College Football is present at most of the schools listed\n",
        "*   Assumption 6: The college expereince can greatly shape a quarterback's career\n",
        "*   Assumption 7: College Football is the biggest farm system of football players for the NFL\n",
        "*   Assumption 8: Quarterbacks come to the NFL with a positive expereince from college\n",
        "*   Assumption 9: NFL Teams are interested in college quarterbacks\n",
        "*   Assumption 10:The college quarterbacks presented in the map are of interest to NFL teams\n",
        "\n"
      ]
    },
    {
      "cell_type": "markdown",
      "metadata": {
        "id": "jKGILpu7gWr6",
        "colab_type": "text"
      },
      "source": [
        "### Data Sources"
      ]
    },
    {
      "cell_type": "markdown",
      "metadata": {
        "id": "uwCao7AtgbNn",
        "colab_type": "text"
      },
      "source": [
        "This project required three specific pieces of information: Quarterback stats, where they went to college and a way to map the college location. Finding stats on college quarterbacks was easy thanks to websites like sports reference which keeps detailed and accurate statistics for almost every sport, including college football and allows users to export the data in excel workbooks for free. The sports reference data also included the common name for the university that each quarterback attended. Unfortunately finding data that would allow us to graph the colleges on a map proved more difficult. Eventually we found a data file created by the department of education that listed every higher education institution in the United States and the ZIP code associated with that school and ZIP code is one of the geographic coding options in Tableau. \n",
        "\n",
        "Unfortunately there were still a couple problems with the data set. First, the file was massive to the point that Tableau could reasonably not handle all the data in the spreadsheet. Second, rather than the common names for the institutions used the full name for each institution meaning we could not easily join it with the stats data. The first problem was easy, we simply cleaned the data by removing every column except for Institution name and ZIP code. This allowed Tableau to more easily process the data. The second problem required finding a third data set that listed institution names and the common name of the institution. We found such a data set on wikipedia, but only for Division I schools. This was acceptable since most of the top quarterbacks play for Division I schools. \n",
        "Now that we had an intermediary data set we began joining all three data sets in the prep builder. We started by joining the government data with the data found on wikipedia and then joining the resulting data set with the quarterback stats. In the end we had one data set that had various quarterback stats, common university names, full university names and ZIP code for each university. \n",
        "\n",
        "Unfortunately we ran into another problem once we started creating the visualization in Tableau. We noticed that several quarterbacks were appearing several times on the map, which should not have happened. Eventually we realized issues occurred in the joining process. The government data listed all higher education institutions, including branch campuses of major universities like Penn State. As a result, when we joined that data with the wikipedia data the branch campuses were assigned the same common name as the main campus of each institution. This meant when we joined that data with the quarterback stats the same quarterback was assigned to each instance of the common name. For example, Sean Clifford appeared on the map for every Penn State branch campus. To fix the problem we went through and deleted every instance of a branch campus from the original government data and then rejoined all the data sets. We finally had the final version of the data we used to create our dashboard.         \n",
        "\n",
        "\n",
        "\n",
        "\n"
      ]
    },
    {
      "cell_type": "markdown",
      "metadata": {
        "id": "kDgSdoQUgg2Z",
        "colab_type": "text"
      },
      "source": [
        "#### Sources"
      ]
    },
    {
      "cell_type": "markdown",
      "metadata": {
        "id": "dFzYIi0Agi2_",
        "colab_type": "text"
      },
      "source": [
        "https://www.sports-reference.com/cfb/years/2019-passing.html\n",
        "\n",
        "https://en.wikipedia.org/wiki/List_of_NCAA_Division_I_institutions#cite_note-list-1\n",
        "\n",
        "https://collegescorecard.ed.gov/data/\n"
      ]
    },
    {
      "cell_type": "markdown",
      "metadata": {
        "id": "qcFak2v7g3jt",
        "colab_type": "text"
      },
      "source": [
        "## Dashboard"
      ]
    },
    {
      "cell_type": "code",
      "metadata": {
        "id": "knG79vNP0Q0u",
        "colab_type": "code",
        "outputId": "487a1f97-08d8-46d7-81a2-5869b6e516b8",
        "colab": {
          "base_uri": "https://localhost:8080/",
          "height": 844
        }
      },
      "source": [
        "import IPython\n",
        "IPython.display.HTML(\"<div class='tableauPlaceholder' id='viz1587917403548' style='position: relative'><noscript><a href='#'><img alt=' ' src='https:&#47;&#47;public.tableau.com&#47;static&#47;images&#47;Fi&#47;FinalProject_15879173290680&#47;Dashboard1&#47;1_rss.png' style='border: none' /></a></noscript><object class='tableauViz'  style='display:none;'><param name='host_url' value='https%3A%2F%2Fpublic.tableau.com%2F' /> <param name='embed_code_version' value='3' /> <param name='site_root' value='' /><param name='name' value='FinalProject_15879173290680&#47;Dashboard1' /><param name='tabs' value='no' /><param name='toolbar' value='yes' /><param name='static_image' value='https:&#47;&#47;public.tableau.com&#47;static&#47;images&#47;Fi&#47;FinalProject_15879173290680&#47;Dashboard1&#47;1.png' /> <param name='animate_transition' value='yes' /><param name='display_static_image' value='yes' /><param name='display_spinner' value='yes' /><param name='display_overlay' value='yes' /><param name='display_count' value='yes' /><param name='filter' value='publish=yes' /></object></div>                <script type='text/javascript'>                    var divElement = document.getElementById('viz1587917403548');                    var vizElement = divElement.getElementsByTagName('object')[0];                    if ( divElement.offsetWidth > 800 ) { vizElement.style.width='1000px';vizElement.style.height='827px';} else if ( divElement.offsetWidth > 500 ) { vizElement.style.width='1000px';vizElement.style.height='827px';} else { vizElement.style.width='100%';vizElement.style.height='727px';}                     var scriptElement = document.createElement('script');                    scriptElement.src = 'https://public.tableau.com/javascripts/api/viz_v1.js';                    vizElement.parentNode.insertBefore(scriptElement, vizElement);                </script>\")"
      ],
      "execution_count": 0,
      "outputs": [
        {
          "output_type": "execute_result",
          "data": {
            "text/html": [
              "<div class='tableauPlaceholder' id='viz1587917403548' style='position: relative'><noscript><a href='#'><img alt=' ' src='https:&#47;&#47;public.tableau.com&#47;static&#47;images&#47;Fi&#47;FinalProject_15879173290680&#47;Dashboard1&#47;1_rss.png' style='border: none' /></a></noscript><object class='tableauViz'  style='display:none;'><param name='host_url' value='https%3A%2F%2Fpublic.tableau.com%2F' /> <param name='embed_code_version' value='3' /> <param name='site_root' value='' /><param name='name' value='FinalProject_15879173290680&#47;Dashboard1' /><param name='tabs' value='no' /><param name='toolbar' value='yes' /><param name='static_image' value='https:&#47;&#47;public.tableau.com&#47;static&#47;images&#47;Fi&#47;FinalProject_15879173290680&#47;Dashboard1&#47;1.png' /> <param name='animate_transition' value='yes' /><param name='display_static_image' value='yes' /><param name='display_spinner' value='yes' /><param name='display_overlay' value='yes' /><param name='display_count' value='yes' /><param name='filter' value='publish=yes' /></object></div>                <script type='text/javascript'>                    var divElement = document.getElementById('viz1587917403548');                    var vizElement = divElement.getElementsByTagName('object')[0];                    if ( divElement.offsetWidth > 800 ) { vizElement.style.width='1000px';vizElement.style.height='827px';} else if ( divElement.offsetWidth > 500 ) { vizElement.style.width='1000px';vizElement.style.height='827px';} else { vizElement.style.width='100%';vizElement.style.height='727px';}                     var scriptElement = document.createElement('script');                    scriptElement.src = 'https://public.tableau.com/javascripts/api/viz_v1.js';                    vizElement.parentNode.insertBefore(scriptElement, vizElement);                </script>"
            ],
            "text/plain": [
              "<IPython.core.display.HTML object>"
            ]
          },
          "metadata": {
            "tags": []
          },
          "execution_count": 1
        }
      ]
    },
    {
      "cell_type": "markdown",
      "metadata": {
        "id": "SvWfnlDjnos1",
        "colab_type": "text"
      },
      "source": [
        "## Conclusion"
      ]
    },
    {
      "cell_type": "markdown",
      "metadata": {
        "id": "rfWefr2gnxOG",
        "colab_type": "text"
      },
      "source": [
        "insert project idea here 500 words (6)\n",
        "\n",
        "The map displayed is a map of the United States in regard to college quarterbacks throughout the entire country. The map itself includes quarterbacks from big conferences such as our very own B1G 10, the SEC, the PAC 12, and many other important conferences to the world of college sports.  On the map there are about 97 different quarterbacks represented with a separate dot on the map, color coded to the conference they are from in the world of college football. On the right side there is a key that allows you to know what color pertains to which conference in college football. Due to space constraints, the words to the right of the colors did not load in, so you can simply hover over the colors for more information. When hover over every single dot in the map itself, you can see what college football quarterback it pertains too along with additional information. Other information included when you hover over a dot in the map is Primary Conference, School, Team, Zip, and Rank.  For example, we know Sean Clifford plays in the B1G Ten Conference for The Penn State Nittany Lions, while being ranked 24 at the zip code 16802. The graph displayed to the left of the map shows all the quarterbacks in terms of yards thrown in the 2019 college football season and touchdowns in the 2019 college football season. When you hover over a dot on this graph you can see what quarterback the information actually pertains to. For example, you can see Joe Burrow threw for 60 touchdowns and 5671 yards in the 2019 college football season. The purpose for these graphs is to assist NFL teams and even fans of just football in general in scouting quarterbacks of the 2019 college football season. There a couple pieces of interesting information that can be obtained from the touchdowns and yards thrown for graph on the left. An interesting outlier is Anthony Gordon, he threw for 48 touchdowns and 5579 yards in the season but was not drafted despite entering the 2020 NFL draft. The Seattle Seahawks recognized the potential value of this outlier and signed Anthony Gordon as an undrafted free agent on  April 25th. Another hyped up prospect, Justin Herbert, seemed to be middle of the pack in terms of statistics which should give teams caution in terms of drafting him. The maps purpose falls more into helping teams benefit in terms of location scouting. NFL Teams and fans can now see where the most quarterback prospects usually play football. Upon looking at this map an NFL Team can immediately tell what states they should pay more or less attention to in terms of quarterback scouting. A state like Texas has 9 prospects total that NFL teams could be interested in following or drafting. States like Wyoming, North Dakota, or South Dakota do not have any notable prospects, so an NFL team may assign less resources to scouting these states. The map also allows you to look at the quality of the prospects in order to determine how much you want to value that aspect in your analysis. The map and graph allows teams and people to properly look into College Quarterbacks in multiple facets. \n",
        "\n",
        "\n",
        "\n"
      ]
    },
    {
      "cell_type": "code",
      "metadata": {
        "id": "GiYDwrUYn0k0",
        "colab_type": "code",
        "colab": {}
      },
      "source": [
        ""
      ],
      "execution_count": 0,
      "outputs": []
    }
  ]
}