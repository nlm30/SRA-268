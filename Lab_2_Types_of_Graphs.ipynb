{
  "nbformat": 4,
  "nbformat_minor": 0,
  "metadata": {
    "colab": {
      "name": "Lab 2: Types of Graphs",
      "provenance": [],
      "include_colab_link": true
    },
    "kernelspec": {
      "name": "python3",
      "display_name": "Python 3"
    }
  },
  "cells": [
    {
      "cell_type": "markdown",
      "metadata": {
        "id": "view-in-github",
        "colab_type": "text"
      },
      "source": [
        "<a href=\"https://colab.research.google.com/github/nlm30/SRA-268/blob/master/Lab_2_Types_of_Graphs.ipynb\" target=\"_parent\"><img src=\"https://colab.research.google.com/assets/colab-badge.svg\" alt=\"Open In Colab\"/></a>"
      ]
    },
    {
      "cell_type": "markdown",
      "metadata": {
        "id": "6sOc4Uyr4U-Z",
        "colab_type": "text"
      },
      "source": [
        "## Graph Types"
      ]
    },
    {
      "cell_type": "markdown",
      "metadata": {
        "id": "0zZdVLAd5CYr",
        "colab_type": "text"
      },
      "source": [
        "Creator\n",
        "* Nick Magera"
      ]
    },
    {
      "cell_type": "markdown",
      "metadata": {
        "id": "g-r6Clq45Hn4",
        "colab_type": "text"
      },
      "source": [
        "### Deviation\n"
      ]
    },
    {
      "cell_type": "markdown",
      "metadata": {
        "id": "2gorxo6E7A0t",
        "colab_type": "text"
      },
      "source": [
        "![alt text](https://raw.githubusercontent.com/jmm8059/Visual_Analystics/master/images/Spine%20Graph%20v2.png)"
      ]
    },
    {
      "cell_type": "markdown",
      "metadata": {
        "id": "w6bZ_NEi7E3w",
        "colab_type": "text"
      },
      "source": [
        "#### What is this telling us?"
      ]
    },
    {
      "cell_type": "markdown",
      "metadata": {
        "id": "95L-spaC7QHF",
        "colab_type": "text"
      },
      "source": [
        "This graph is a spine graph that compares the average winning speed and average winning points for teams with mascots that begin with “D”. The uses of different colors, red and blue, for each measure differentiates them to the reader’s eyes and twells them they are looking at separate variables. While there is not much variation in the average winning points for each team, there is significant variation in the average winning seed. This gives the reader an idea of how good each team is on average. For example, the Dukes average winning seed is 15, indicating they usually only make the tournament by getting their conference’s automatic bid. Meanwhile the duck  average a winning seed less than five, indicating they likely do not need an automatic bid to make the tournament.  "
      ]
    },
    {
      "cell_type": "markdown",
      "metadata": {
        "id": "YgXyXjmz7cDP",
        "colab_type": "text"
      },
      "source": [
        "### Correlation\n"
      ]
    },
    {
      "cell_type": "markdown",
      "metadata": {
        "id": "SGx15rZq7hvt",
        "colab_type": "text"
      },
      "source": [
        "![alt text](https://raw.githubusercontent.com/blakehawkins26/SRA268/master/images/Screen%20Shot%202020-02-20%20at%2010.50.23%20AM.png)"
      ]
    },
    {
      "cell_type": "markdown",
      "metadata": {
        "id": "dljjONNi7jmj",
        "colab_type": "text"
      },
      "source": [
        "#### What is this telling us?"
      ]
    },
    {
      "cell_type": "markdown",
      "metadata": {
        "id": "PwZEZrFB7laG",
        "colab_type": "text"
      },
      "source": [
        "This graph shows the correlation between mascot name and the amount of points scored. The correlation is depicted through the size and color of the bubble. For example, a large and dark green bubble indicates a greater amount of points scored for that mascot. A major factor that impacts this graph is common mascot names. For example, there are many schools with “Wildcat” mascot and so their points totals were lumped together. Meanwhile, very few schools have a spider for a mascot. Another factor is how often a team makes the tournament. Since this graph uses a sum rather than average, more tournament appearances will continue to add points to the total and increase the bubble size. "
      ]
    },
    {
      "cell_type": "markdown",
      "metadata": {
        "id": "MqUdI-uL7r2s",
        "colab_type": "text"
      },
      "source": [
        "### Ranking\n"
      ]
    },
    {
      "cell_type": "markdown",
      "metadata": {
        "id": "AvlxCOVt7x9F",
        "colab_type": "text"
      },
      "source": [
        "![alt text](https://raw.githubusercontent.com/blakehawkins26/SRA268/master/images/Screen%20Shot%202020-02-20%20at%2011.26.38%20AM.png)"
      ]
    },
    {
      "cell_type": "markdown",
      "metadata": {
        "id": "lCAYtfza7yTq",
        "colab_type": "text"
      },
      "source": [
        "#### What is this telling us?"
      ]
    },
    {
      "cell_type": "markdown",
      "metadata": {
        "id": "MyuciD277ygU",
        "colab_type": "text"
      },
      "source": [
        "This graph ranks days of the week based on the average winning scores on that day. It is ordered from left to right, meaning lower scores on the left and higher scores to the right. This works well because we read left to right. It also uses height and color to indicate the rank. Lighter blue indicates a lower average score and higher bars mean higher scores on average for that day. The different colors also serve to differentiate the bars so they do not blend together when looking at the graph. Wednesday averages the lowest winning score while Saturday averages the highest.  \n"
      ]
    },
    {
      "cell_type": "markdown",
      "metadata": {
        "id": "dGDGl8-G7y8Y",
        "colab_type": "text"
      },
      "source": [
        "### Distribution\n"
      ]
    },
    {
      "cell_type": "markdown",
      "metadata": {
        "id": "FB0uV-jy76p9",
        "colab_type": "text"
      },
      "source": [
        "![alt text](https://raw.githubusercontent.com/nlm30/SRA-268/master/Distribution.png)"
      ]
    },
    {
      "cell_type": "markdown",
      "metadata": {
        "id": "_6SOzhrQ76zH",
        "colab_type": "text"
      },
      "source": [
        "#### What is this telling us?"
      ]
    },
    {
      "cell_type": "markdown",
      "metadata": {
        "id": "HBWqsS_g767h",
        "colab_type": "text"
      },
      "source": [
        "This graph shows the distribution of all winning point totals. Each bar represents a “bin” or range of values. Then every winning point total was sorted into these bins. Higher bars indicate a winning score within that range is more common. By looking at this graph it is possible to get an idea of what a winning score looks like. The graph shows that a usual winning score will fall somewhere in the range of 65 - 85 points. This encompasses the three largest bars. The graph also shows a clear outlier where there was a single winning score that was greater than 140. Further analysis could be done if the histogram was converted into a normal distribution curve. \n"
      ]
    },
    {
      "cell_type": "markdown",
      "metadata": {
        "id": "wQsDThk677Fy",
        "colab_type": "text"
      },
      "source": [
        "### Change over Time\n"
      ]
    },
    {
      "cell_type": "markdown",
      "metadata": {
        "id": "Z1j_YLOA7_OK",
        "colab_type": "text"
      },
      "source": [
        "![Change Over Time](https://raw.githubusercontent.com/nlm30/SRA-268/master/Change%20over%20time.png)"
      ]
    },
    {
      "cell_type": "markdown",
      "metadata": {
        "id": "mpfsmmgi7_Vj",
        "colab_type": "text"
      },
      "source": [
        "#### What is this telling us?"
      ]
    },
    {
      "cell_type": "markdown",
      "metadata": {
        "id": "rYLXoMMO7_di",
        "colab_type": "text"
      },
      "source": [
        "This graph depicts scoring on a year to year basis. Starting in 1985 and ending in 2017 each bar represents the average total points per game for that year. The color of each bar indicates the magnitude of the scores. For example, the darker the bar the higher the score. By looking at this graph it is possible to examine how scoring trends change over time. There is a slight rise and fall cycle that repeats every few years. This shows the responsive nature of the sport and the battle between offense and defense. As offense and point totals increase, eventually coaches respond with better defensive schemes, which drive down scoring until offense responds again. In 2017 scoring was up so based on the pattern it would lead to the conclusion scoring will fall in the next couple years.    \n"
      ]
    },
    {
      "cell_type": "markdown",
      "metadata": {
        "id": "lFwiHoE-7_jZ",
        "colab_type": "text"
      },
      "source": [
        "### Magnitude\n"
      ]
    },
    {
      "cell_type": "markdown",
      "metadata": {
        "id": "ICQFnXj78EbF",
        "colab_type": "text"
      },
      "source": [
        "![alt text](https://raw.githubusercontent.com/jmm8059/Visual_Analystics/master/images/Lolipop%20Graph.png)"
      ]
    },
    {
      "cell_type": "markdown",
      "metadata": {
        "id": "QGG7XYG88Eii",
        "colab_type": "text"
      },
      "source": [
        "#### What is this telling us?"
      ]
    },
    {
      "cell_type": "markdown",
      "metadata": {
        "id": "VS7uGa0l8Eos",
        "colab_type": "text"
      },
      "source": [
        "This graph is a lollipop graph and shows the average seed of the winning team from 2000 - 2009. This graph is different from a standard bar graph due to the dots that cap off each bar. These emphasize where each bar ends and helps ensure they do not blend together when reading the graph. Looking at the actual data the only year that sticks out is 2007 as its the only year where the average seed is higher than a four. Going forward, people could use this chart when predicting future tournaments. Knowing that after five it is unlikely that seed will win any given year. "
      ]
    },
    {
      "cell_type": "markdown",
      "metadata": {
        "id": "bEKFxP8R8Evk",
        "colab_type": "text"
      },
      "source": [
        "### Part-to-Whole\n"
      ]
    },
    {
      "cell_type": "markdown",
      "metadata": {
        "id": "WFHlcYKV8E35",
        "colab_type": "text"
      },
      "source": [
        "![alt text](https://raw.githubusercontent.com/blakehawkins26/SRA268/master/images/Screen%20Shot%202020-02-20%20at%2010.51.19%20AM.png)"
      ]
    },
    {
      "cell_type": "markdown",
      "metadata": {
        "id": "PNSd3wlp8UZH",
        "colab_type": "text"
      },
      "source": [
        "#### What is this telling us?"
      ]
    },
    {
      "cell_type": "markdown",
      "metadata": {
        "id": "y9tb_QRA8aqt",
        "colab_type": "text"
      },
      "source": [
        "This graph shows the taxonomic class of winning teams. More specifically this is a treemap. It demonstrates which class of animal wins the most games during the tournament. Again, mammals and birds are very common mascots, so they are the largest on this graph. This is because with so many teams in the tournament they have a much greater probability of winning a game.  The color of the boxes represents wins as well, with darker boxes meaning more wins, also the color helps distinguish the categories to the reader. Finally, the large box with no label represents classes with too few wins to otherwise be represented on the graph. "
      ]
    }
  ]
}