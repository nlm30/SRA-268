{
  "nbformat": 4,
  "nbformat_minor": 0,
  "metadata": {
    "colab": {
      "name": "Team Project 1 Group 30.ipynb",
      "provenance": [],
      "collapsed_sections": [],
      "include_colab_link": true
    },
    "kernelspec": {
      "name": "python3",
      "display_name": "Python 3"
    }
  },
  "cells": [
    {
      "cell_type": "markdown",
      "metadata": {
        "id": "view-in-github",
        "colab_type": "text"
      },
      "source": [
        "<a href=\"https://colab.research.google.com/github/nlm30/SRA-268/blob/master/Team_Project_1_Group_30.ipynb\" target=\"_parent\"><img src=\"https://colab.research.google.com/assets/colab-badge.svg\" alt=\"Open In Colab\"/></a>"
      ]
    },
    {
      "cell_type": "markdown",
      "metadata": {
        "id": "1zIL2jzGBUpr",
        "colab_type": "text"
      },
      "source": [
        "# Group Project 1: The Good, the bad, and the ugly\n",
        " Members: Nicholas Magera, Jonathan Mirchandani, Blake Hawkins"
      ]
    },
    {
      "cell_type": "markdown",
      "metadata": {
        "id": "wzcm7pAoFHdb",
        "colab_type": "text"
      },
      "source": [
        "# Description"
      ]
    },
    {
      "cell_type": "markdown",
      "metadata": {
        "id": "bF3XGv-kskoz",
        "colab_type": "text"
      },
      "source": [
        "For our groups project, we decided to extract the data of all the temperatures in January from 2000 - 2020. We then analyzed the average maximum temperatures of January in State College, Pennsylvania over a twetnty year span. The goal for this project was to see if there was a steady increase in temperatures during one of the coldest months of the year. We thought this idea would be interesting to graph out becasue the winters in State College seem to have become milder over the years. \n",
        "\n",
        "\n"
      ]
    },
    {
      "cell_type": "markdown",
      "metadata": {
        "id": "A5NiNaq75Fs3",
        "colab_type": "text"
      },
      "source": [
        "# The Good"
      ]
    },
    {
      "cell_type": "markdown",
      "metadata": {
        "id": "JK2k3YfPsz9l",
        "colab_type": "text"
      },
      "source": [
        "\n",
        "The graph below is a well encoded graph that shows the average maximum temperature in Juanuary over a twenty year span. The encodings on this graph are good becasue it is a line chart that starts at 0, so it does not mislead the viewers. It also  contains the average temperature number for each year next to its corresponding place on the graph. Without those, it would be tough to tell the exact temperature. The line chart also fits the type of data we are using well becasue it illustrates some of the dramatic changes in average temperature throughout the years."
      ]
    },
    {
      "cell_type": "markdown",
      "metadata": {
        "id": "XSrpg2KPr904",
        "colab_type": "text"
      },
      "source": [
        "![The Good](https://raw.githubusercontent.com/nlm30/SRA-268/master/The%20Good.JPG)"
      ]
    },
    {
      "cell_type": "markdown",
      "metadata": {
        "id": "TFMqgtgR48Rv",
        "colab_type": "text"
      },
      "source": [
        "# The Bad"
      ]
    },
    {
      "cell_type": "markdown",
      "metadata": {
        "id": "BUW47TYws77M",
        "colab_type": "text"
      },
      "source": [
        "\n",
        "The graph below is intended to trick the audience into believing the data is different than it actually is. The Y axis in this graph has been flipped so the audience will believe by pure habit the temperatures in January are extremely low. In reality the top of the graph is 0 degrees Fahrenheit, so the low graph actually means the temperature is fairly temperate. The other manipulation we have done to this graph is maaking it red. Red generally reflects something bad is happening with the graph, leading people to come off with a negative feeling. Someone might make a graph like this to argue for more snow days at Penn State. The lower graph may lead some people to believe that due to the normal extremely cold weather, Penn State should be prepared to give more snow days."
      ]
    },
    {
      "cell_type": "markdown",
      "metadata": {
        "id": "JW5h19cBsIJE",
        "colab_type": "text"
      },
      "source": [
        "![The Bad](https://raw.githubusercontent.com/nlm30/SRA-268/master/The%20Bad_V2.JPG)"
      ]
    },
    {
      "cell_type": "markdown",
      "metadata": {
        "id": "3EpZDVKL5NZt",
        "colab_type": "text"
      },
      "source": [
        "# The Ugly"
      ]
    },
    {
      "cell_type": "markdown",
      "metadata": {
        "id": "7mw4Y2kgtCuX",
        "colab_type": "text"
      },
      "source": [
        "While this graph represents the data accurately, it is ugly and would not make a good graph for practical purposes. The first reason this graph is ugly is the color. Usually we would use a color that would contrast the background and make the graph easy to read and understand, however, in this graph we used a light gray color that blends in with the whitre background and makes it hard to distinguish our data points. Speaking of data points, the ones in this graph are far too large. They are so big that they overlap each other in many cases. Finally, the size of the dots makes it hard to determine the actual value of the data points as well. For these reasons this graph is \"ugly\" and a poor representation of the data.  "
      ]
    },
    {
      "cell_type": "markdown",
      "metadata": {
        "id": "uVsCTVcnsSaI",
        "colab_type": "text"
      },
      "source": [
        "![The Ugly](https://raw.githubusercontent.com/nlm30/SRA-268/master/The%20Ugly.JPG)"
      ]
    },
    {
      "cell_type": "markdown",
      "metadata": {
        "id": "4p90t4CDC5wr",
        "colab_type": "text"
      },
      "source": [
        "# Conclusion"
      ]
    },
    {
      "cell_type": "markdown",
      "metadata": {
        "id": "H9wv3ofeDBrk",
        "colab_type": "text"
      },
      "source": [
        "Overall, our group discovered that over a period of 20 years, the average temperature in the month of January remained remarkably about the same. This would give the community of State College plenty of information to prepare for about exactly how cold it an get in January. Our graphs used multiple different visual encodings to demonstrate the good the bad, and the ugly of the data. Our good graph allowed the reader to see the averages and get a good idea of the trends of temperature. The bad graph attempted to mislead the reader by not providing values and manipulating the Y axis so the graph looks colder than it is, while also brining attention to the red color. The ugly graph was extremely difficult to read due to the large merging circles and the poor color choice of gray."
      ]
    }
  ]
}